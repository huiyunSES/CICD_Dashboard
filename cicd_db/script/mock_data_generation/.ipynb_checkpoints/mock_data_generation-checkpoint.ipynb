{
 "cells": [
  {
   "cell_type": "code",
   "execution_count": 2,
   "id": "923f07e2",
   "metadata": {},
   "outputs": [
    {
     "name": "stdout",
     "output_type": "stream",
     "text": [
      "product team data saved to ../../data/product_table.csv.\n",
      "Role data saved to ../../data/role_table.csv.\n"
     ]
    }
   ],
   "source": [
    "# create an empty dataframe and add columns\n",
    "import pandas as pd\n",
    "from faker import Faker\n",
    "import names\n",
    "df = pd.DataFrame()\n",
    "from product_table import product_table_generator\n",
    "from role_table import role_table_generator"
   ]
  },
  {
   "cell_type": "markdown",
   "id": "e4a8117d",
   "metadata": {},
   "source": [
    "# User.csv"
   ]
  },
  {
   "cell_type": "markdown",
   "id": "4c382f34",
   "metadata": {},
   "source": [
    "1. User Name genrator"
   ]
  },
  {
   "cell_type": "code",
   "execution_count": 56,
   "id": "049ef2a0",
   "metadata": {},
   "outputs": [],
   "source": [
    "#generate 100 customer names\n",
    "import names\n",
    "\n",
    "def name_generator(cnt):\n",
    "    \n",
    "    name = []\n",
    "    for i in range(cnt):\n",
    "        name.append(names.get_full_name())\n",
    "    df['name'] = name\n",
    "    df[['first_name', 'last_name']] = df['name'].str.split(' ', n=1, expand=True)\n",
    "    \n",
    "    df.drop('name', axis=1, inplace=True)\n",
    "    \n",
    "    \n",
    "    return df"
   ]
  },
  {
   "cell_type": "code",
   "execution_count": 57,
   "id": "55e48fc8",
   "metadata": {},
   "outputs": [],
   "source": [
    "def username_email_generator(cnt):\n",
    "    \n",
    "    df['github_username'] = df['first_name'].str[0].str.lower() + df['last_name'].str.lower()   \n",
    "    df['email'] = df['first_name'].str[0].str.lower() + df['last_name'].str.lower() + \"@company.com\"\n",
    "    \n",
    "    return df"
   ]
  },
  {
   "cell_type": "code",
   "execution_count": 58,
   "id": "83f6777d",
   "metadata": {},
   "outputs": [
    {
     "data": {
      "text/html": [
       "<div>\n",
       "<style scoped>\n",
       "    .dataframe tbody tr th:only-of-type {\n",
       "        vertical-align: middle;\n",
       "    }\n",
       "\n",
       "    .dataframe tbody tr th {\n",
       "        vertical-align: top;\n",
       "    }\n",
       "\n",
       "    .dataframe thead th {\n",
       "        text-align: right;\n",
       "    }\n",
       "</style>\n",
       "<table border=\"1\" class=\"dataframe\">\n",
       "  <thead>\n",
       "    <tr style=\"text-align: right;\">\n",
       "      <th></th>\n",
       "      <th>first_name</th>\n",
       "      <th>last_name</th>\n",
       "      <th>github_username</th>\n",
       "      <th>email</th>\n",
       "    </tr>\n",
       "  </thead>\n",
       "  <tbody>\n",
       "    <tr>\n",
       "      <th>0</th>\n",
       "      <td>Robert</td>\n",
       "      <td>Ramos</td>\n",
       "      <td>rramos</td>\n",
       "      <td>rramos@company.com</td>\n",
       "    </tr>\n",
       "    <tr>\n",
       "      <th>1</th>\n",
       "      <td>John</td>\n",
       "      <td>Janas</td>\n",
       "      <td>jjanas</td>\n",
       "      <td>jjanas@company.com</td>\n",
       "    </tr>\n",
       "    <tr>\n",
       "      <th>2</th>\n",
       "      <td>Jeff</td>\n",
       "      <td>Bellinger</td>\n",
       "      <td>jbellinger</td>\n",
       "      <td>jbellinger@company.com</td>\n",
       "    </tr>\n",
       "    <tr>\n",
       "      <th>3</th>\n",
       "      <td>Laurie</td>\n",
       "      <td>Delafuente</td>\n",
       "      <td>ldelafuente</td>\n",
       "      <td>ldelafuente@company.com</td>\n",
       "    </tr>\n",
       "    <tr>\n",
       "      <th>4</th>\n",
       "      <td>Camilla</td>\n",
       "      <td>Pennington</td>\n",
       "      <td>cpennington</td>\n",
       "      <td>cpennington@company.com</td>\n",
       "    </tr>\n",
       "    <tr>\n",
       "      <th>...</th>\n",
       "      <td>...</td>\n",
       "      <td>...</td>\n",
       "      <td>...</td>\n",
       "      <td>...</td>\n",
       "    </tr>\n",
       "    <tr>\n",
       "      <th>95</th>\n",
       "      <td>Hugh</td>\n",
       "      <td>Johnson</td>\n",
       "      <td>hjohnson</td>\n",
       "      <td>hjohnson@company.com</td>\n",
       "    </tr>\n",
       "    <tr>\n",
       "      <th>96</th>\n",
       "      <td>Jason</td>\n",
       "      <td>Harris</td>\n",
       "      <td>jharris</td>\n",
       "      <td>jharris@company.com</td>\n",
       "    </tr>\n",
       "    <tr>\n",
       "      <th>97</th>\n",
       "      <td>Kevin</td>\n",
       "      <td>Lobo</td>\n",
       "      <td>klobo</td>\n",
       "      <td>klobo@company.com</td>\n",
       "    </tr>\n",
       "    <tr>\n",
       "      <th>98</th>\n",
       "      <td>Jan</td>\n",
       "      <td>Taylor</td>\n",
       "      <td>jtaylor</td>\n",
       "      <td>jtaylor@company.com</td>\n",
       "    </tr>\n",
       "    <tr>\n",
       "      <th>99</th>\n",
       "      <td>Maria</td>\n",
       "      <td>Peters</td>\n",
       "      <td>mpeters</td>\n",
       "      <td>mpeters@company.com</td>\n",
       "    </tr>\n",
       "  </tbody>\n",
       "</table>\n",
       "<p>100 rows × 4 columns</p>\n",
       "</div>"
      ],
      "text/plain": [
       "   first_name   last_name github_username                    email\n",
       "0      Robert       Ramos          rramos       rramos@company.com\n",
       "1        John       Janas          jjanas       jjanas@company.com\n",
       "2        Jeff   Bellinger      jbellinger   jbellinger@company.com\n",
       "3      Laurie  Delafuente     ldelafuente  ldelafuente@company.com\n",
       "4     Camilla  Pennington     cpennington  cpennington@company.com\n",
       "..        ...         ...             ...                      ...\n",
       "95       Hugh     Johnson        hjohnson     hjohnson@company.com\n",
       "96      Jason      Harris         jharris      jharris@company.com\n",
       "97      Kevin        Lobo           klobo        klobo@company.com\n",
       "98        Jan      Taylor         jtaylor      jtaylor@company.com\n",
       "99      Maria      Peters         mpeters      mpeters@company.com\n",
       "\n",
       "[100 rows x 4 columns]"
      ]
     },
     "execution_count": 58,
     "metadata": {},
     "output_type": "execute_result"
    }
   ],
   "source": [
    "cnt = 100\n",
    "name_generator(cnt)\n",
    "username_email_generator(cnt)"
   ]
  },
  {
   "cell_type": "code",
   "execution_count": 59,
   "id": "7217ef4e",
   "metadata": {},
   "outputs": [],
   "source": [
    "import random\n",
    "def product_columns(dicti, key_col, val_col, n):\n",
    "    \n",
    "    keys = []\n",
    "    values1 = []\n",
    "\n",
    "    for i in range(n):\n",
    "        key, value = random.choice(list(dicti.items()))\n",
    "        keys.append(key)\n",
    "        values.append(value[0])\n",
    "      \n",
    "    \n",
    "    df[key_col] = keys\n",
    "    df[val_col] = values\n",
    "  \n",
    "    return df "
   ]
  },
  {
   "cell_type": "code",
   "execution_count": null,
   "id": "fdb144d8",
   "metadata": {},
   "outputs": [],
   "source": [
    "product_info = product_table_generator()\n",
    "role_info = role_table_generator()\n",
    "\n",
    "product_columns(dicti, key_col, val_col, n)"
   ]
  },
  {
   "cell_type": "code",
   "execution_count": null,
   "id": "9c0f8aec",
   "metadata": {},
   "outputs": [],
   "source": []
  },
  {
   "cell_type": "code",
   "execution_count": null,
   "id": "d16c687a",
   "metadata": {},
   "outputs": [],
   "source": []
  }
 ],
 "metadata": {
  "kernelspec": {
   "display_name": "Python 3 (ipykernel)",
   "language": "python",
   "name": "python3"
  },
  "language_info": {
   "codemirror_mode": {
    "name": "ipython",
    "version": 3
   },
   "file_extension": ".py",
   "mimetype": "text/x-python",
   "name": "python",
   "nbconvert_exporter": "python",
   "pygments_lexer": "ipython3",
   "version": "3.10.9"
  }
 },
 "nbformat": 4,
 "nbformat_minor": 5
}
